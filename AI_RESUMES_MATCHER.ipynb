{
  "cells": [
    {
      "cell_type": "code",
      "execution_count": 1,
      "metadata": {
        "id": "dqi4iTK2b9fK"
      },
      "outputs": [
        {
          "name": "stderr",
          "output_type": "stream",
          "text": [
            "C:\\Users\\VidyaDinkar\\AppData\\Roaming\\Python\\Python313\\site-packages\\tqdm\\auto.py:21: TqdmWarning: IProgress not found. Please update jupyter and ipywidgets. See https://ipywidgets.readthedocs.io/en/stable/user_install.html\n",
            "  from .autonotebook import tqdm as notebook_tqdm\n"
          ]
        }
      ],
      "source": [
        "import os\n",
        "import docx\n",
        "import PyPDF2\n",
        "import numpy as np\n",
        "import matplotlib.pyplot as plt\n",
        "from sentence_transformers import SentenceTransformer\n",
        "from sklearn.metrics.pairwise import cosine_similarity\n"
      ]
    },
    {
      "cell_type": "code",
      "execution_count": 4,
      "metadata": {},
      "outputs": [],
      "source": [
        "RESUME_FOLDER = r\"C:\\Users\\VidyaDinkar\\Resume_Matcher_Project\\resume_reader\\resumes\""
      ]
    },
    {
      "cell_type": "code",
      "execution_count": 16,
      "metadata": {},
      "outputs": [],
      "source": [
        "def read_docx(file_path):\n",
        "    doc = docx.Document(file_path)\n",
        "    return \" \".join([para.text for para in doc.paragraphs])"
      ]
    },
    {
      "cell_type": "code",
      "execution_count": 18,
      "metadata": {},
      "outputs": [],
      "source": [
        "\n",
        "# Function to read text from a PDF file\n",
        "def read_pdf(file_path):\n",
        "    text = \"\"\n",
        "    with open(file_path, \"rb\") as f:\n",
        "        reader = PyPDF2.PdfReader(f)\n",
        "        for page in reader.pages:\n",
        "            text += page.extract_text() or \"\"\n",
        "    return text\n",
        "\n",
        "# Function to read any file (PDF, DOCX, TXT)\n",
        "def read_resume(file_path):\n",
        "    if file_path.endswith(\".docx\"):\n",
        "        return read_docx(file_path)\n",
        "    elif file_path.endswith(\".pdf\"):\n",
        "        return read_pdf(file_path)\n",
        "    elif file_path.endswith(\".txt\"):\n",
        "        with open(file_path, \"r\", encoding=\"utf-8\", errors=\"ignore\") as f:\n",
        "            return f.read()\n",
        "    else:\n",
        "        return \"\"\n",
        "\n",
        "# ✅ Step 1: Load resumes\n",
        "resumes = {}\n",
        "for file_name in os.listdir(RESUME_FOLDER):\n",
        "    file_path = os.path.join(RESUME_FOLDER, file_name)\n",
        "    text = read_resume(file_path)\n",
        "    if text.strip():\n",
        "        resumes[file_name] = text"
      ]
    },
    {
      "cell_type": "code",
      "execution_count": 19,
      "metadata": {
        "id": "lyFOvsOacZkg"
      },
      "outputs": [],
      "source": [
        "def extract_text_from_pdf(file_path):\n",
        "    text = \"\"\n",
        "    with open(file_path, \"rb\") as f:\n",
        "        reader = PyPDF2.PdfReader(f)\n",
        "        for page in reader.pages:\n",
        "            if page.extract_text():\n",
        "                text += page.extract_text() + \" \"\n",
        "    return text.strip()\n",
        "\n",
        "def extract_text_from_docx(file_path):\n",
        "    doc = docx.Document(file_path)\n",
        "    return \" \".join([para.text for para in doc.paragraphs]).strip()\n",
        "\n",
        "def load_resume(file_path):\n",
        "    if file_path.endswith(\".pdf\"):\n",
        "        return extract_text_from_pdf(file_path)\n",
        "    elif file_path.endswith(\".docx\"):\n",
        "        return extract_text_from_docx(file_path)\n",
        "    else:\n",
        "        return None"
      ]
    },
    {
      "cell_type": "code",
      "execution_count": 20,
      "metadata": {
        "colab": {
          "base_uri": "https://localhost:8080/"
        },
        "id": "GBaLFXrVc5GZ",
        "outputId": "6103c0c0-af61-4106-8148-fa4925b2a571"
      },
      "outputs": [
        {
          "name": "stdout",
          "output_type": "stream",
          "text": [
            "📄 Job Description Loaded.\n"
          ]
        }
      ],
      "source": [
        "job_description_text = \"\"\"\n",
        "Machine Learning Engineer\n",
        "Responsibilities:\n",
        "•\tDevelop and deploy ML models for predictive analytics.\n",
        "•\tPreprocess and clean large datasets.\n",
        "•\tOptimize algorithms for scalability and performance.\n",
        "•\tIntegrate ML solutions into applications.\n",
        "•\tStay updated with latest AI/ML advancements.\n",
        "Requirements:\n",
        "•\tStrong skills in Python, TensorFlow, PyTorch, or Scikit-learn.\n",
        "•\tExperience with data pipelines and cloud ML services.\n",
        "•\tSolid understanding of statistics and algorithms.\n",
        "•\tAbility to work in a fast-paced environment.\n",
        "\"\"\"\n",
        "print(\"📄 Job Description Loaded.\")"
      ]
    },
    {
      "cell_type": "code",
      "execution_count": 21,
      "metadata": {
        "id": "aXVu1VHXdNEY"
      },
      "outputs": [],
      "source": [
        "skills = [\n",
        "    \"Python\", \"SQL\", \"Excel\", \"Power BI\", \"Tableau\",\n",
        "    \"Data Analysis\", \"Machine Learning\", \"Statistics\",\n",
        "    \"Communication\", \"Problem Solving\"\n",
        "]\n"
      ]
    },
    {
      "cell_type": "code",
      "execution_count": 22,
      "metadata": {
        "id": "G-4fjHgRdQRd"
      },
      "outputs": [],
      "source": [
        "model = SentenceTransformer('all-MiniLM-L6-v2')\n"
      ]
    },
    {
      "cell_type": "code",
      "execution_count": 23,
      "metadata": {
        "id": "cX67XOjvdQvx"
      },
      "outputs": [],
      "source": [
        "job_description_embedding = model.encode(job_description_text)"
      ]
    },
    {
      "cell_type": "code",
      "execution_count": 24,
      "metadata": {
        "id": "ut4ZQZBHdYdQ"
      },
      "outputs": [],
      "source": [
        "resume_embeddings = {}\n",
        "for file_name, resume_text in resumes.items():\n",
        "    if resume_text:\n",
        "        resume_embeddings[file_name] = model.encode(resume_text)"
      ]
    },
    {
      "cell_type": "code",
      "execution_count": 26,
      "metadata": {
        "id": "d-_TgWEkda2L"
      },
      "outputs": [],
      "source": [
        "similarity_scores = {}\n",
        "for file_name, resume_embedding in resume_embeddings.items():\n",
        "    score = cosine_similarity(\n",
        "        [job_description_embedding],\n",
        "        [resume_embedding]\n",
        "    )[0][0]\n",
        "    similarity_scores[file_name] = round(score * 100, 2)"
      ]
    },
    {
      "cell_type": "code",
      "execution_count": 27,
      "metadata": {
        "id": "5lUvU4SVddVP"
      },
      "outputs": [],
      "source": [
        "def analyze_skills(resume_text, skills):\n",
        "    matched = []\n",
        "    missing = []\n",
        "    text_lower = resume_text.lower()\n",
        "    for skill in skills:\n",
        "        if skill.lower() in text_lower:\n",
        "            matched.append(skill)\n",
        "        else:\n",
        "            missing.append(skill)\n",
        "    return matched, missing"
      ]
    },
    {
      "cell_type": "code",
      "execution_count": 28,
      "metadata": {
        "colab": {
          "base_uri": "https://localhost:8080/"
        },
        "id": "RuSO5s7ydipF",
        "outputId": "08d34e4d-a991-4648-b808-97f13c5e0078"
      },
      "outputs": [
        {
          "name": "stdout",
          "output_type": "stream",
          "text": [
            "\n",
            " Ranked Resumes with Skill Match Analysis:\n",
            "\n",
            "Rank 1: Resume27vid.docx\n",
            "   🔹 Match Score: 57.40999984741211%\n",
            "   ✅ Matched Skills: Python, SQL, Data Analysis, Machine Learning\n",
            "   ❌ Missing Skills: Excel, Power BI, Tableau, Statistics, Communication, Problem Solving\n",
            "\n",
            "Rank 2: Vidya_Dinkar_Resume2025.pdf\n",
            "   🔹 Match Score: 51.650001525878906%\n",
            "   ✅ Matched Skills: Python, SQL, Data Analysis, Machine Learning\n",
            "   ❌ Missing Skills: Excel, Power BI, Tableau, Statistics, Communication, Problem Solving\n",
            "\n",
            "Rank 3: Piyush_Patel_Resume.pdf\n",
            "   🔹 Match Score: 41.18000030517578%\n",
            "   ✅ Matched Skills: Python, SQL, Machine Learning, Problem Solving\n",
            "   ❌ Missing Skills: Excel, Power BI, Tableau, Data Analysis, Statistics, Communication\n",
            "\n"
          ]
        }
      ],
      "source": [
        "print(\"\\n Ranked Resumes with Skill Match Analysis:\\n\")\n",
        "ranked_resumes = sorted(similarity_scores.items(), key=lambda item: item[1], reverse=True)\n",
        "for i, (file_name, score) in enumerate(ranked_resumes):\n",
        "    resume_text = resumes[file_name]\n",
        "    matched, missing = analyze_skills(resume_text, skills)\n",
        "\n",
        "    print(f\"Rank {i+1}: {file_name}\")\n",
        "    print(f\"   🔹 Match Score: {score}%\")\n",
        "    print(f\"   ✅ Matched Skills: {', '.join(matched) if matched else 'None'}\")\n",
        "    print(f\"   ❌ Missing Skills: {', '.join(missing) if missing else 'None'}\\n\")"
      ]
    },
    {
      "cell_type": "code",
      "execution_count": 29,
      "metadata": {
        "colab": {
          "base_uri": "https://localhost:8080/",
          "height": 211
        },
        "id": "MvBcNFnFhjCb",
        "outputId": "3a338321-19a1-4d4d-c072-da08bf96a9f4"
      },
      "outputs": [
        {
          "data": {
            "image/png": "[encoded data removed]",
            "text/plain": [
              "<Figure size 1200x700 with 1 Axes>"
            ]
          },
          "metadata": {},
          "output_type": "display_data"
        }
      ],
      "source": [
        "top_n = 5\n",
        "top_resumes = ranked_resumes[:top_n]\n",
        "\n",
        "names = []\n",
        "scores = []\n",
        "skills_summary = []\n",
        "\n",
        "for file_name, score in top_resumes:\n",
        "    resume_text = resumes[file_name]\n",
        "    matched, missing = analyze_skills(resume_text, skills)\n",
        "    names.append(file_name)\n",
        "    scores.append(score)\n",
        "    skills_summary.append(\", \".join(matched) if matched else \"No Skills Matched\")\n",
        "\n",
        "#Bar Chart\n",
        "plt.figure(figsize=(12,7))\n",
        "bars = plt.barh(names, scores, color=\"blue\", edgecolor=\"black\")\n",
        "\n",
        "plt.xlabel(\"Match Percentage (%)\")\n",
        "plt.title(f\"Top {top_n} Candidates - Resume Match Scores\")\n",
        "\n",
        "\n",
        "for i, bar in enumerate(bars):\n",
        "    plt.text(bar.get_width() + 1, bar.get_y() + bar.get_height()/2,\n",
        "             f\"{scores[i]}% | {skills_summary[i]}\",\n",
        "             va=\"center\", fontsize=9, color=\"black\")\n",
        "\n",
        "plt.gca().invert_yaxis()\n",
        "plt.show()\n",
        "\n",
        "\n"
      ]
    }
  ],
  "metadata": {
    "accelerator": "GPU",
    "colab": {
      "gpuType": "T4",
      "provenance": []
    },
    "kernelspec": {
      "display_name": "Python 3",
      "name": "python3"
    },
    "language_info": {
      "codemirror_mode": {
        "name": "ipython",
        "version": 3
      },
      "file_extension": ".py",
      "mimetype": "text/x-python",
      "name": "python",
      "nbconvert_exporter": "python",
      "pygments_lexer": "ipython3",
      "version": "3.13.7"
    }
  },
  "nbformat": 4,
  "nbformat_minor": 0
}
