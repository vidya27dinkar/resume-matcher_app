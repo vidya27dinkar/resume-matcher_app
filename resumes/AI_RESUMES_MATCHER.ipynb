{
  "nbformat": 4,
  "nbformat_minor": 0,
  "metadata": {
    "colab": {
      "provenance": [],
      "gpuType": "T4"
    },
    "kernelspec": {
      "name": "python3",
      "display_name": "Python 3"
    },
    "language_info": {
      "name": "python"
    },
    "accelerator": "GPU"
  },
  "cells": [
    {
      "cell_type": "code",
      "source": [
        "# Install dependencies\n",
        "!pip install python-docx PyPDF2 sentence-transformers reportlab"
      ],
      "metadata": {
        "colab": {
          "base_uri": "https://localhost:8080/"
        },
        "id": "95vyELyRb_yH",
        "outputId": "2cde88f6-a63d-4530-b2d9-0fc2352abda5"
      },
      "execution_count": 19,
      "outputs": [
        {
          "output_type": "stream",
          "name": "stdout",
          "text": [
            "Requirement already satisfied: python-docx in /usr/local/lib/python3.12/dist-packages (1.2.0)\n",
            "Requirement already satisfied: PyPDF2 in /usr/local/lib/python3.12/dist-packages (3.0.1)\n",
            "Requirement already satisfied: sentence-transformers in /usr/local/lib/python3.12/dist-packages (5.1.0)\n",
            "Requirement already satisfied: reportlab in /usr/local/lib/python3.12/dist-packages (4.4.3)\n",
            "Requirement already satisfied: lxml>=3.1.0 in /usr/local/lib/python3.12/dist-packages (from python-docx) (5.4.0)\n",
            "Requirement already satisfied: typing_extensions>=4.9.0 in /usr/local/lib/python3.12/dist-packages (from python-docx) (4.15.0)\n",
            "Requirement already satisfied: transformers<5.0.0,>=4.41.0 in /usr/local/lib/python3.12/dist-packages (from sentence-transformers) (4.55.4)\n",
            "Requirement already satisfied: tqdm in /usr/local/lib/python3.12/dist-packages (from sentence-transformers) (4.67.1)\n",
            "Requirement already satisfied: torch>=1.11.0 in /usr/local/lib/python3.12/dist-packages (from sentence-transformers) (2.8.0+cu126)\n",
            "Requirement already satisfied: scikit-learn in /usr/local/lib/python3.12/dist-packages (from sentence-transformers) (1.6.1)\n",
            "Requirement already satisfied: scipy in /usr/local/lib/python3.12/dist-packages (from sentence-transformers) (1.16.1)\n",
            "Requirement already satisfied: huggingface-hub>=0.20.0 in /usr/local/lib/python3.12/dist-packages (from sentence-transformers) (0.34.4)\n",
            "Requirement already satisfied: Pillow in /usr/local/lib/python3.12/dist-packages (from sentence-transformers) (11.3.0)\n",
            "Requirement already satisfied: charset-normalizer in /usr/local/lib/python3.12/dist-packages (from reportlab) (3.4.3)\n",
            "Requirement already satisfied: filelock in /usr/local/lib/python3.12/dist-packages (from huggingface-hub>=0.20.0->sentence-transformers) (3.19.1)\n",
            "Requirement already satisfied: fsspec>=2023.5.0 in /usr/local/lib/python3.12/dist-packages (from huggingface-hub>=0.20.0->sentence-transformers) (2025.3.0)\n",
            "Requirement already satisfied: packaging>=20.9 in /usr/local/lib/python3.12/dist-packages (from huggingface-hub>=0.20.0->sentence-transformers) (25.0)\n",
            "Requirement already satisfied: pyyaml>=5.1 in /usr/local/lib/python3.12/dist-packages (from huggingface-hub>=0.20.0->sentence-transformers) (6.0.2)\n",
            "Requirement already satisfied: requests in /usr/local/lib/python3.12/dist-packages (from huggingface-hub>=0.20.0->sentence-transformers) (2.32.4)\n",
            "Requirement already satisfied: hf-xet<2.0.0,>=1.1.3 in /usr/local/lib/python3.12/dist-packages (from huggingface-hub>=0.20.0->sentence-transformers) (1.1.8)\n",
            "Requirement already satisfied: setuptools in /usr/local/lib/python3.12/dist-packages (from torch>=1.11.0->sentence-transformers) (75.2.0)\n",
            "Requirement already satisfied: sympy>=1.13.3 in /usr/local/lib/python3.12/dist-packages (from torch>=1.11.0->sentence-transformers) (1.13.3)\n",
            "Requirement already satisfied: networkx in /usr/local/lib/python3.12/dist-packages (from torch>=1.11.0->sentence-transformers) (3.5)\n",
            "Requirement already satisfied: jinja2 in /usr/local/lib/python3.12/dist-packages (from torch>=1.11.0->sentence-transformers) (3.1.6)\n",
            "Requirement already satisfied: nvidia-cuda-nvrtc-cu12==12.6.77 in /usr/local/lib/python3.12/dist-packages (from torch>=1.11.0->sentence-transformers) (12.6.77)\n",
            "Requirement already satisfied: nvidia-cuda-runtime-cu12==12.6.77 in /usr/local/lib/python3.12/dist-packages (from torch>=1.11.0->sentence-transformers) (12.6.77)\n",
            "Requirement already satisfied: nvidia-cuda-cupti-cu12==12.6.80 in /usr/local/lib/python3.12/dist-packages (from torch>=1.11.0->sentence-transformers) (12.6.80)\n",
            "Requirement already satisfied: nvidia-cudnn-cu12==9.10.2.21 in /usr/local/lib/python3.12/dist-packages (from torch>=1.11.0->sentence-transformers) (9.10.2.21)\n",
            "Requirement already satisfied: nvidia-cublas-cu12==12.6.4.1 in /usr/local/lib/python3.12/dist-packages (from torch>=1.11.0->sentence-transformers) (12.6.4.1)\n",
            "Requirement already satisfied: nvidia-cufft-cu12==11.3.0.4 in /usr/local/lib/python3.12/dist-packages (from torch>=1.11.0->sentence-transformers) (11.3.0.4)\n",
            "Requirement already satisfied: nvidia-curand-cu12==10.3.7.77 in /usr/local/lib/python3.12/dist-packages (from torch>=1.11.0->sentence-transformers) (10.3.7.77)\n",
            "Requirement already satisfied: nvidia-cusolver-cu12==11.7.1.2 in /usr/local/lib/python3.12/dist-packages (from torch>=1.11.0->sentence-transformers) (11.7.1.2)\n",
            "Requirement already satisfied: nvidia-cusparse-cu12==12.5.4.2 in /usr/local/lib/python3.12/dist-packages (from torch>=1.11.0->sentence-transformers) (12.5.4.2)\n",
            "Requirement already satisfied: nvidia-cusparselt-cu12==0.7.1 in /usr/local/lib/python3.12/dist-packages (from torch>=1.11.0->sentence-transformers) (0.7.1)\n",
            "Requirement already satisfied: nvidia-nccl-cu12==2.27.3 in /usr/local/lib/python3.12/dist-packages (from torch>=1.11.0->sentence-transformers) (2.27.3)\n",
            "Requirement already satisfied: nvidia-nvtx-cu12==12.6.77 in /usr/local/lib/python3.12/dist-packages (from torch>=1.11.0->sentence-transformers) (12.6.77)\n",
            "Requirement already satisfied: nvidia-nvjitlink-cu12==12.6.85 in /usr/local/lib/python3.12/dist-packages (from torch>=1.11.0->sentence-transformers) (12.6.85)\n",
            "Requirement already satisfied: nvidia-cufile-cu12==1.11.1.6 in /usr/local/lib/python3.12/dist-packages (from torch>=1.11.0->sentence-transformers) (1.11.1.6)\n",
            "Requirement already satisfied: triton==3.4.0 in /usr/local/lib/python3.12/dist-packages (from torch>=1.11.0->sentence-transformers) (3.4.0)\n",
            "Requirement already satisfied: numpy>=1.17 in /usr/local/lib/python3.12/dist-packages (from transformers<5.0.0,>=4.41.0->sentence-transformers) (2.0.2)\n",
            "Requirement already satisfied: regex!=2019.12.17 in /usr/local/lib/python3.12/dist-packages (from transformers<5.0.0,>=4.41.0->sentence-transformers) (2024.11.6)\n",
            "Requirement already satisfied: tokenizers<0.22,>=0.21 in /usr/local/lib/python3.12/dist-packages (from transformers<5.0.0,>=4.41.0->sentence-transformers) (0.21.4)\n",
            "Requirement already satisfied: safetensors>=0.4.3 in /usr/local/lib/python3.12/dist-packages (from transformers<5.0.0,>=4.41.0->sentence-transformers) (0.6.2)\n",
            "Requirement already satisfied: joblib>=1.2.0 in /usr/local/lib/python3.12/dist-packages (from scikit-learn->sentence-transformers) (1.5.1)\n",
            "Requirement already satisfied: threadpoolctl>=3.1.0 in /usr/local/lib/python3.12/dist-packages (from scikit-learn->sentence-transformers) (3.6.0)\n",
            "Requirement already satisfied: mpmath<1.4,>=1.1.0 in /usr/local/lib/python3.12/dist-packages (from sympy>=1.13.3->torch>=1.11.0->sentence-transformers) (1.3.0)\n",
            "Requirement already satisfied: MarkupSafe>=2.0 in /usr/local/lib/python3.12/dist-packages (from jinja2->torch>=1.11.0->sentence-transformers) (3.0.2)\n",
            "Requirement already satisfied: idna<4,>=2.5 in /usr/local/lib/python3.12/dist-packages (from requests->huggingface-hub>=0.20.0->sentence-transformers) (3.10)\n",
            "Requirement already satisfied: urllib3<3,>=1.21.1 in /usr/local/lib/python3.12/dist-packages (from requests->huggingface-hub>=0.20.0->sentence-transformers) (2.5.0)\n",
            "Requirement already satisfied: certifi>=2017.4.17 in /usr/local/lib/python3.12/dist-packages (from requests->huggingface-hub>=0.20.0->sentence-transformers) (2025.8.3)\n"
          ]
        }
      ]
    },
    {
      "cell_type": "code",
      "source": [
        "import os\n",
        "import docx\n",
        "import PyPDF2\n",
        "import numpy as np\n",
        "import matplotlib.pyplot as plt\n",
        "from sentence_transformers import SentenceTransformer\n",
        "from sklearn.metrics.pairwise import cosine_similarity\n"
      ],
      "metadata": {
        "id": "dqi4iTK2b9fK"
      },
      "execution_count": 46,
      "outputs": []
    },
    {
      "cell_type": "code",
      "source": [
        "def extract_text_from_pdf(file_path):\n",
        "    text = \"\"\n",
        "    with open(file_path, \"rb\") as f:\n",
        "        reader = PyPDF2.PdfReader(f)\n",
        "        for page in reader.pages:\n",
        "            if page.extract_text():\n",
        "                text += page.extract_text() + \" \"\n",
        "    return text.strip()\n",
        "\n",
        "def extract_text_from_docx(file_path):\n",
        "    doc = docx.Document(file_path)\n",
        "    return \" \".join([para.text for para in doc.paragraphs]).strip()\n",
        "\n",
        "def load_resume(file_path):\n",
        "    if file_path.endswith(\".pdf\"):\n",
        "        return extract_text_from_pdf(file_path)\n",
        "    elif file_path.endswith(\".docx\"):\n",
        "        return extract_text_from_docx(file_path)\n",
        "    else:\n",
        "        return None"
      ],
      "metadata": {
        "id": "lyFOvsOacZkg"
      },
      "execution_count": 21,
      "outputs": []
    },
    {
      "cell_type": "code",
      "source": [
        "resume_folder = \"/content/drive/MyDrive/resumes\"\n",
        "if not os.path.exists(resume_folder):\n",
        "    raise FileNotFoundError(\" Resume folder not found! Please check the path in Google Drive.\")\n"
      ],
      "metadata": {
        "id": "SgghZkUJcduH"
      },
      "execution_count": 22,
      "outputs": []
    },
    {
      "cell_type": "code",
      "source": [
        "resumes = {}\n",
        "for file in os.listdir(resume_folder):\n",
        "    file_path = os.path.join(resume_folder, file)\n",
        "    try:\n",
        "        resumes[file] = load_resume(file_path)\n",
        "    except Exception as e:\n",
        "        print(f\"⚠️ Skipping {file}: {e}\")"
      ],
      "metadata": {
        "id": "zl19ONVUc4kk"
      },
      "execution_count": 23,
      "outputs": []
    },
    {
      "cell_type": "code",
      "source": [
        "job_description_text = \"\"\"\n",
        "Machine Learning Engineer\n",
        "Responsibilities:\n",
        "•\tDevelop and deploy ML models for predictive analytics.\n",
        "•\tPreprocess and clean large datasets.\n",
        "•\tOptimize algorithms for scalability and performance.\n",
        "•\tIntegrate ML solutions into applications.\n",
        "•\tStay updated with latest AI/ML advancements.\n",
        "Requirements:\n",
        "•\tStrong skills in Python, TensorFlow, PyTorch, or Scikit-learn.\n",
        "•\tExperience with data pipelines and cloud ML services.\n",
        "•\tSolid understanding of statistics and algorithms.\n",
        "•\tAbility to work in a fast-paced environment.\n",
        "\"\"\"\n",
        "print(\"📄 Job Description Loaded.\")"
      ],
      "metadata": {
        "colab": {
          "base_uri": "https://localhost:8080/"
        },
        "id": "GBaLFXrVc5GZ",
        "outputId": "6103c0c0-af61-4106-8148-fa4925b2a571"
      },
      "execution_count": 24,
      "outputs": [
        {
          "output_type": "stream",
          "name": "stdout",
          "text": [
            "📄 Job Description Loaded.\n"
          ]
        }
      ]
    },
    {
      "cell_type": "code",
      "source": [
        "skills = [\n",
        "    \"Python\", \"SQL\", \"Excel\", \"Power BI\", \"Tableau\",\n",
        "    \"Data Analysis\", \"Machine Learning\", \"Statistics\",\n",
        "    \"Communication\", \"Problem Solving\"\n",
        "]\n"
      ],
      "metadata": {
        "id": "aXVu1VHXdNEY"
      },
      "execution_count": 25,
      "outputs": []
    },
    {
      "cell_type": "code",
      "source": [
        "model = SentenceTransformer('all-MiniLM-L6-v2')\n"
      ],
      "metadata": {
        "id": "G-4fjHgRdQRd"
      },
      "execution_count": 26,
      "outputs": []
    },
    {
      "cell_type": "code",
      "source": [
        "job_description_embedding = model.encode(job_description_text)"
      ],
      "metadata": {
        "id": "cX67XOjvdQvx"
      },
      "execution_count": 27,
      "outputs": []
    },
    {
      "cell_type": "code",
      "source": [
        "resume_embeddings = {}\n",
        "for file_name, resume_text in resumes.items():\n",
        "    if resume_text:\n",
        "        resume_embeddings[file_name] = model.encode(resume_text)"
      ],
      "metadata": {
        "id": "ut4ZQZBHdYdQ"
      },
      "execution_count": 28,
      "outputs": []
    },
    {
      "cell_type": "code",
      "source": [
        "similarity_scores = {}\n",
        "for file_name, resume_embedding in resume_embeddings.items():\n",
        "    score = cosine_similarity(\n",
        "        [job_description_embedding],\n",
        "        [resume_embedding]\n",
        "    )[0][0]\n",
        "    similarity_scores[file_name] = round(score * 100, 2)"
      ],
      "metadata": {
        "id": "d-_TgWEkda2L"
      },
      "execution_count": 29,
      "outputs": []
    },
    {
      "cell_type": "code",
      "source": [
        "def analyze_skills(resume_text, skills):\n",
        "    matched = []\n",
        "    missing = []\n",
        "    text_lower = resume_text.lower()\n",
        "    for skill in skills:\n",
        "        if skill.lower() in text_lower:\n",
        "            matched.append(skill)\n",
        "        else:\n",
        "            missing.append(skill)\n",
        "    return matched, missing"
      ],
      "metadata": {
        "id": "5lUvU4SVddVP"
      },
      "execution_count": 30,
      "outputs": []
    },
    {
      "cell_type": "code",
      "source": [
        "print(\"\\n Ranked Resumes with Skill Match Analysis:\\n\")\n",
        "ranked_resumes = sorted(similarity_scores.items(), key=lambda item: item[1], reverse=True)\n",
        "for i, (file_name, score) in enumerate(ranked_resumes):\n",
        "    resume_text = resumes[file_name]\n",
        "    matched, missing = analyze_skills(resume_text, skills)\n",
        "\n",
        "    print(f\"Rank {i+1}: {file_name}\")\n",
        "    print(f\"   🔹 Match Score: {score}%\")\n",
        "    print(f\"   ✅ Matched Skills: {', '.join(matched) if matched else 'None'}\")\n",
        "    print(f\"   ❌ Missing Skills: {', '.join(missing) if missing else 'None'}\\n\")"
      ],
      "metadata": {
        "colab": {
          "base_uri": "https://localhost:8080/"
        },
        "id": "RuSO5s7ydipF",
        "outputId": "08d34e4d-a991-4648-b808-97f13c5e0078"
      },
      "execution_count": 48,
      "outputs": [
        {
          "output_type": "stream",
          "name": "stdout",
          "text": [
            "\n",
            " Ranked Resumes with Skill Match Analysis:\n",
            "\n",
            "Rank 1: Resume27vid.docx\n",
            "   🔹 Match Score: 57.40999984741211%\n",
            "   ✅ Matched Skills: Python, SQL, Data Analysis, Machine Learning\n",
            "   ❌ Missing Skills: Excel, Power BI, Tableau, Statistics, Communication, Problem Solving\n",
            "\n",
            "Rank 2: Vidya_Dinkar_Resume2025.pdf\n",
            "   🔹 Match Score: 51.650001525878906%\n",
            "   ✅ Matched Skills: Python, SQL, Data Analysis, Machine Learning\n",
            "   ❌ Missing Skills: Excel, Power BI, Tableau, Statistics, Communication, Problem Solving\n",
            "\n",
            "Rank 3: Piyush_Patel_Resume.pdf\n",
            "   🔹 Match Score: 41.18000030517578%\n",
            "   ✅ Matched Skills: Python, SQL, Machine Learning, Problem Solving\n",
            "   ❌ Missing Skills: Excel, Power BI, Tableau, Data Analysis, Statistics, Communication\n",
            "\n"
          ]
        }
      ]
    },
    {
      "cell_type": "code",
      "source": [
        "top_n = 5\n",
        "top_resumes = ranked_resumes[:top_n]\n",
        "\n",
        "names = []\n",
        "scores = []\n",
        "skills_summary = []\n",
        "\n",
        "for file_name, score in top_resumes:\n",
        "    resume_text = resumes[file_name]\n",
        "    matched, missing = analyze_skills(resume_text, skills)\n",
        "    names.append(file_name)\n",
        "    scores.append(score)\n",
        "    skills_summary.append(\", \".join(matched) if matched else \"No Skills Matched\")\n",
        "\n",
        "#Bar Chart\n",
        "plt.figure(figsize=(12,7))\n",
        "bars = plt.barh(names, scores, color=\"blue\", edgecolor=\"black\")\n",
        "\n",
        "plt.xlabel(\"Match Percentage (%)\")\n",
        "plt.title(f\"Top {top_n} Candidates - Resume Match Scores\")\n",
        "\n",
        "\n",
        "for i, bar in enumerate(bars):\n",
        "    plt.text(bar.get_width() + 1, bar.get_y() + bar.get_height()/2,\n",
        "             f\"{scores[i]}% | {skills_summary[i]}\",\n",
        "             va=\"center\", fontsize=9, color=\"black\")\n",
        "\n",
        "plt.gca().invert_yaxis()\n",
        "plt.show()\n",
        "\n",
        "\n"
      ],
      "metadata": {
        "colab": {
          "base_uri": "https://localhost:8080/",
          "height": 211
        },
        "id": "MvBcNFnFhjCb",
        "outputId": "3a338321-19a1-4d4d-c072-da08bf96a9f4"
      },
      "execution_count": 1,
      "outputs": [
        {
          "output_type": "error",
          "ename": "NameError",
          "evalue": "name 'ranked_resumes' is not defined",
          "traceback": [
            "\u001b[0;31m---------------------------------------------------------------------------\u001b[0m",
            "\u001b[0;31mNameError\u001b[0m                                 Traceback (most recent call last)",
            "\u001b[0;32m/tmp/ipython-input-892358340.py\u001b[0m in \u001b[0;36m<cell line: 0>\u001b[0;34m()\u001b[0m\n\u001b[1;32m      1\u001b[0m \u001b[0mtop_n\u001b[0m \u001b[0;34m=\u001b[0m \u001b[0;36m5\u001b[0m\u001b[0;34m\u001b[0m\u001b[0;34m\u001b[0m\u001b[0m\n\u001b[0;32m----> 2\u001b[0;31m \u001b[0mtop_resumes\u001b[0m \u001b[0;34m=\u001b[0m \u001b[0mranked_resumes\u001b[0m\u001b[0;34m[\u001b[0m\u001b[0;34m:\u001b[0m\u001b[0mtop_n\u001b[0m\u001b[0;34m]\u001b[0m\u001b[0;34m\u001b[0m\u001b[0;34m\u001b[0m\u001b[0m\n\u001b[0m\u001b[1;32m      3\u001b[0m \u001b[0;34m\u001b[0m\u001b[0m\n\u001b[1;32m      4\u001b[0m \u001b[0mnames\u001b[0m \u001b[0;34m=\u001b[0m \u001b[0;34m[\u001b[0m\u001b[0;34m]\u001b[0m\u001b[0;34m\u001b[0m\u001b[0;34m\u001b[0m\u001b[0m\n\u001b[1;32m      5\u001b[0m \u001b[0mscores\u001b[0m \u001b[0;34m=\u001b[0m \u001b[0;34m[\u001b[0m\u001b[0;34m]\u001b[0m\u001b[0;34m\u001b[0m\u001b[0;34m\u001b[0m\u001b[0m\n",
            "\u001b[0;31mNameError\u001b[0m: name 'ranked_resumes' is not defined"
          ]
        }
      ]
    }
  ]
}